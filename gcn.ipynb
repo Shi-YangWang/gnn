{
 "cells": [
  {
   "cell_type": "markdown",
   "metadata": {},
   "source": [
    "# Graph Convolutional Network\n",
    "![avatar](img/gcn.png)"
   ]
  },
  {
   "cell_type": "code",
   "execution_count": null,
   "metadata": {},
   "outputs": [],
   "source": [
    "from tensorflow.keras.layers import Layer\n",
    "import tensorflow as tf\n",
    "import tensorflow.keras as keras"
   ]
  },
  {
   "cell_type": "code",
   "execution_count": null,
   "metadata": {},
   "outputs": [],
   "source": [
    "# * 探索代码\n"
   ]
  },
  {
   "cell_type": "code",
   "execution_count": null,
   "metadata": {},
   "outputs": [],
   "source": [
    "# Pre processing"
   ]
  },
  {
   "cell_type": "code",
   "execution_count": null,
   "metadata": {},
   "outputs": [],
   "source": [
    "## GCN\n",
    "learning_rate = 0.01\n",
    "n_nodes   = 16\n",
    "dim_input = 1\n",
    "dim_output= 1\n",
    "A_hat  = None\n",
    "inputs = keras.layers.Input(shape=(n_nodes, dim_input))\n",
    "gc_1 = GC(A_hat, dim_input, dim_output)(inputs)\n",
    "gc_2 = GC(A_hat, dim_input, dim_output)(gc_1)\n",
    "outputs = keras.layers.Dense(1)(gc_2)\n",
    "\n",
    "model = keras.Model(inputs=inputs, outputs=outputs)\n",
    "model.compile(optimizer=keras.optimizers.Adam(learning_rate=learning_rate), loss=\"mse\")\n",
    "model.summary()"
   ]
  },
  {
   "cell_type": "code",
   "execution_count": null,
   "metadata": {},
   "outputs": [],
   "source": [
    "# Fit model\n",
    "model.fit(\n",
    "    dataset_train,\n",
    "    epochs=epochs,\n",
    "    validation_data=dataset_val\n",
    ")"
   ]
  },
  {
   "cell_type": "markdown",
   "metadata": {},
   "source": [
    "# Code Repo"
   ]
  },
  {
   "cell_type": "code",
   "execution_count": null,
   "metadata": {},
   "outputs": [],
   "source": [
    "class GC(Layer):\n",
    "    def __init__(self, A_hat, dim_input, dim_output):\n",
    "        super(GC, self).__init__()\n",
    "        self.A_hat     = A_hat\n",
    "        self.dim_input = dim_input\n",
    "        self.dim_output= dim_output\n",
    "    def build(self):\n",
    "        self.w = self.add_weight(\n",
    "            shape=(self.dim_input, self.dim_output),\n",
    "            initializer=\"random_normal\",\n",
    "            trainable=True,\n",
    "        )\n",
    "    '''\n",
    "        Calculate $ X \\dot W $.\n",
    "    '''\n",
    "    def call(self, inputs):\n",
    "        return self.A_hat @ inputs @ self.w"
   ]
  }
 ],
 "metadata": {
  "language_info": {
   "name": "python"
  },
  "orig_nbformat": 4
 },
 "nbformat": 4,
 "nbformat_minor": 2
}
