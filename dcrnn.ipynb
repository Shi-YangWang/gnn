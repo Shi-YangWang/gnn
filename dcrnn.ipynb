{
 "cells": [
  {
   "cell_type": "markdown",
   "metadata": {},
   "source": [
    "# Diffusion Convolutional Neural Network\n",
    "原文地址：1707.01926v3<br/>\n",
    "代码地址：https://github.com/liyaguang/DCRNN<br/>\n",
    "万物皆可推广. 本质上，是共享权重的多层图卷积网络<br/>\n",
    "扩散的步数越多，在空间维度数据越平滑. 过犹不及，原文中只是将GCN中的一步扩散推广成两步. <br/>\n",
    "![avatar](img/dcrnn.PNG)"
   ]
  },
  {
   "cell_type": "code",
   "execution_count": null,
   "metadata": {},
   "outputs": [],
   "source": [
    "import tensorflow as tf\n",
    "import tensorflow.keras as keras\n",
    "from tensorflow.keras.layers import Layer, Dense\n",
    "\n",
    "import numpy as np\n",
    "import scipy.sparse as sp\n",
    "import matplotlib as plot"
   ]
  },
  {
   "cell_type": "code",
   "execution_count": null,
   "metadata": {},
   "outputs": [],
   "source": [
    "# * 探索代码\n",
    "'''\n",
    "伪代码阶段\n",
    "调整维度\n",
    "调通代码\n",
    "'''"
   ]
  },
  {
   "cell_type": "markdown",
   "metadata": {},
   "source": [
    "# Code Repo"
   ]
  },
  {
   "cell_type": "code",
   "execution_count": null,
   "metadata": {},
   "outputs": [],
   "source": [
    "class GCN(Layer):\n",
    "    def __init__(self):\n",
    "        super(self, GCN).__init__()\n",
    "    def build(self, diffusion_matrix, dim_input, dim_hidden, k = 2):\n",
    "        self.diffusion_matrix = diffusion_matrix\n",
    "        self.w = tf.Variable(shape=(dim_input, dim_hidden))\n",
    "        self.k = k\n",
    "    def call(self, inputs):\n",
    "        # 计算扩散卷积.\n",
    "        y = []\n",
    "        y_t_minus_2 = inputs\n",
    "        y.concat(y_t_minus_2) # y_0 = x\n",
    "        y_t_minus_1 = self.diffusion_matrix @ y_t_minus_2 # fence-post problem, y_1 = Dx\n",
    "        y.concat(y_t_minus_1)\n",
    "        for _k in range(0, self.k):\n",
    "            y_t = 2 * self.diffusion_matrix @ y_t_minus_1 - y_t_minus_2\n",
    "            y.concat(y_t) # y_t = 2 * Dy_t-1 - yt-2，既是切比雪夫递归多项式(ChebNet)，又是扩散方程(热传导方程)的渐进解.\n",
    "        return y * self.w"
   ]
  },
  {
   "cell_type": "code",
   "execution_count": null,
   "metadata": {},
   "outputs": [],
   "source": [
    "'''\n",
    "Input\n",
    "  A: adjacency matrix\n",
    "'''\n",
    "def calculate_normalized_laplacian(adj):\n",
    "    adj = sp.coo_matrix(adj)\n",
    "    d = np.array(adj.sum(1))\n",
    "    d_inv_sqrt = np.power(d, -0.5).flatten()\n",
    "    d_inv_sqrt[np.isinf(d_inv_sqrt)] = 0.\n",
    "    d_mat_inv_sqrt = sp.diags(d_inv_sqrt)\n",
    "    normalized_laplacian = sp.eye(adj.shape[0]) - adj.dot(d_mat_inv_sqrt).transpose().dot(d_mat_inv_sqrt).tocoo()\n",
    "    return normalized_laplacian"
   ]
  }
 ],
 "metadata": {
  "language_info": {
   "name": "python"
  },
  "orig_nbformat": 4
 },
 "nbformat": 4,
 "nbformat_minor": 2
}
